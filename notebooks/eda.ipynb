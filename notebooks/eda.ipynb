{
 "cells": [
  {
   "cell_type": "code",
   "execution_count": 11,
   "metadata": {},
   "outputs": [],
   "source": [
    "import pandas as pd\n",
    "import numpy as np\n",
    "import matplotlib.pyplot as plt\n",
    "import seaborn as sns\n",
    "import plotly.graph_objects as go"
   ]
  },
  {
   "cell_type": "code",
   "execution_count": 6,
   "metadata": {},
   "outputs": [
    {
     "data": {
      "text/html": [
       "<div>\n",
       "<style scoped>\n",
       "    .dataframe tbody tr th:only-of-type {\n",
       "        vertical-align: middle;\n",
       "    }\n",
       "\n",
       "    .dataframe tbody tr th {\n",
       "        vertical-align: top;\n",
       "    }\n",
       "\n",
       "    .dataframe thead th {\n",
       "        text-align: right;\n",
       "    }\n",
       "</style>\n",
       "<table border=\"1\" class=\"dataframe\">\n",
       "  <thead>\n",
       "    <tr style=\"text-align: right;\">\n",
       "      <th></th>\n",
       "      <th>artist_name</th>\n",
       "      <th>track_name</th>\n",
       "      <th>track_id</th>\n",
       "      <th>popularity</th>\n",
       "      <th>year</th>\n",
       "      <th>genre</th>\n",
       "      <th>danceability</th>\n",
       "      <th>energy</th>\n",
       "      <th>key</th>\n",
       "      <th>loudness</th>\n",
       "      <th>mode</th>\n",
       "      <th>speechiness</th>\n",
       "      <th>acousticness</th>\n",
       "      <th>instrumentalness</th>\n",
       "      <th>liveness</th>\n",
       "      <th>valence</th>\n",
       "      <th>tempo</th>\n",
       "      <th>duration_ms</th>\n",
       "      <th>time_signature</th>\n",
       "    </tr>\n",
       "  </thead>\n",
       "  <tbody>\n",
       "    <tr>\n",
       "      <th>0</th>\n",
       "      <td>Jason Mraz</td>\n",
       "      <td>I Won't Give Up</td>\n",
       "      <td>53QF56cjZA9RTuuMZDrSA6</td>\n",
       "      <td>68</td>\n",
       "      <td>2012</td>\n",
       "      <td>acoustic</td>\n",
       "      <td>0.483</td>\n",
       "      <td>0.303</td>\n",
       "      <td>4</td>\n",
       "      <td>-10.058</td>\n",
       "      <td>1</td>\n",
       "      <td>0.0429</td>\n",
       "      <td>0.6940</td>\n",
       "      <td>0.000000</td>\n",
       "      <td>0.1150</td>\n",
       "      <td>0.139</td>\n",
       "      <td>133.406</td>\n",
       "      <td>240166</td>\n",
       "      <td>3</td>\n",
       "    </tr>\n",
       "    <tr>\n",
       "      <th>1</th>\n",
       "      <td>Jason Mraz</td>\n",
       "      <td>93 Million Miles</td>\n",
       "      <td>1s8tP3jP4GZcyHDsjvw218</td>\n",
       "      <td>50</td>\n",
       "      <td>2012</td>\n",
       "      <td>acoustic</td>\n",
       "      <td>0.572</td>\n",
       "      <td>0.454</td>\n",
       "      <td>3</td>\n",
       "      <td>-10.286</td>\n",
       "      <td>1</td>\n",
       "      <td>0.0258</td>\n",
       "      <td>0.4770</td>\n",
       "      <td>0.000014</td>\n",
       "      <td>0.0974</td>\n",
       "      <td>0.515</td>\n",
       "      <td>140.182</td>\n",
       "      <td>216387</td>\n",
       "      <td>4</td>\n",
       "    </tr>\n",
       "    <tr>\n",
       "      <th>2</th>\n",
       "      <td>Joshua Hyslop</td>\n",
       "      <td>Do Not Let Me Go</td>\n",
       "      <td>7BRCa8MPiyuvr2VU3O9W0F</td>\n",
       "      <td>57</td>\n",
       "      <td>2012</td>\n",
       "      <td>acoustic</td>\n",
       "      <td>0.409</td>\n",
       "      <td>0.234</td>\n",
       "      <td>3</td>\n",
       "      <td>-13.711</td>\n",
       "      <td>1</td>\n",
       "      <td>0.0323</td>\n",
       "      <td>0.3380</td>\n",
       "      <td>0.000050</td>\n",
       "      <td>0.0895</td>\n",
       "      <td>0.145</td>\n",
       "      <td>139.832</td>\n",
       "      <td>158960</td>\n",
       "      <td>4</td>\n",
       "    </tr>\n",
       "    <tr>\n",
       "      <th>3</th>\n",
       "      <td>Boyce Avenue</td>\n",
       "      <td>Fast Car</td>\n",
       "      <td>63wsZUhUZLlh1OsyrZq7sz</td>\n",
       "      <td>58</td>\n",
       "      <td>2012</td>\n",
       "      <td>acoustic</td>\n",
       "      <td>0.392</td>\n",
       "      <td>0.251</td>\n",
       "      <td>10</td>\n",
       "      <td>-9.845</td>\n",
       "      <td>1</td>\n",
       "      <td>0.0363</td>\n",
       "      <td>0.8070</td>\n",
       "      <td>0.000000</td>\n",
       "      <td>0.0797</td>\n",
       "      <td>0.508</td>\n",
       "      <td>204.961</td>\n",
       "      <td>304293</td>\n",
       "      <td>4</td>\n",
       "    </tr>\n",
       "    <tr>\n",
       "      <th>4</th>\n",
       "      <td>Andrew Belle</td>\n",
       "      <td>Sky's Still Blue</td>\n",
       "      <td>6nXIYClvJAfi6ujLiKqEq8</td>\n",
       "      <td>54</td>\n",
       "      <td>2012</td>\n",
       "      <td>acoustic</td>\n",
       "      <td>0.430</td>\n",
       "      <td>0.791</td>\n",
       "      <td>6</td>\n",
       "      <td>-5.419</td>\n",
       "      <td>0</td>\n",
       "      <td>0.0302</td>\n",
       "      <td>0.0726</td>\n",
       "      <td>0.019300</td>\n",
       "      <td>0.1100</td>\n",
       "      <td>0.217</td>\n",
       "      <td>171.864</td>\n",
       "      <td>244320</td>\n",
       "      <td>4</td>\n",
       "    </tr>\n",
       "  </tbody>\n",
       "</table>\n",
       "</div>"
      ],
      "text/plain": [
       "     artist_name        track_name                track_id  popularity  year  \\\n",
       "0     Jason Mraz   I Won't Give Up  53QF56cjZA9RTuuMZDrSA6          68  2012   \n",
       "1     Jason Mraz  93 Million Miles  1s8tP3jP4GZcyHDsjvw218          50  2012   \n",
       "2  Joshua Hyslop  Do Not Let Me Go  7BRCa8MPiyuvr2VU3O9W0F          57  2012   \n",
       "3   Boyce Avenue          Fast Car  63wsZUhUZLlh1OsyrZq7sz          58  2012   \n",
       "4   Andrew Belle  Sky's Still Blue  6nXIYClvJAfi6ujLiKqEq8          54  2012   \n",
       "\n",
       "      genre  danceability  energy  key  loudness  mode  speechiness  \\\n",
       "0  acoustic         0.483   0.303    4   -10.058     1       0.0429   \n",
       "1  acoustic         0.572   0.454    3   -10.286     1       0.0258   \n",
       "2  acoustic         0.409   0.234    3   -13.711     1       0.0323   \n",
       "3  acoustic         0.392   0.251   10    -9.845     1       0.0363   \n",
       "4  acoustic         0.430   0.791    6    -5.419     0       0.0302   \n",
       "\n",
       "   acousticness  instrumentalness  liveness  valence    tempo  duration_ms  \\\n",
       "0        0.6940          0.000000    0.1150    0.139  133.406       240166   \n",
       "1        0.4770          0.000014    0.0974    0.515  140.182       216387   \n",
       "2        0.3380          0.000050    0.0895    0.145  139.832       158960   \n",
       "3        0.8070          0.000000    0.0797    0.508  204.961       304293   \n",
       "4        0.0726          0.019300    0.1100    0.217  171.864       244320   \n",
       "\n",
       "   time_signature  \n",
       "0               3  \n",
       "1               4  \n",
       "2               4  \n",
       "3               4  \n",
       "4               4  "
      ]
     },
     "execution_count": 6,
     "metadata": {},
     "output_type": "execute_result"
    }
   ],
   "source": [
    "df = pd.read_csv('../data/spotify_data.csv', index_col=0)\n",
    "df.head()"
   ]
  },
  {
   "cell_type": "code",
   "execution_count": 7,
   "metadata": {},
   "outputs": [
    {
     "data": {
      "text/plain": [
       "(1159764, 19)"
      ]
     },
     "execution_count": 7,
     "metadata": {},
     "output_type": "execute_result"
    }
   ],
   "source": [
    "df.shape"
   ]
  },
  {
   "cell_type": "code",
   "execution_count": 8,
   "metadata": {},
   "outputs": [
    {
     "name": "stdout",
     "output_type": "stream",
     "text": [
      "<class 'pandas.core.frame.DataFrame'>\n",
      "Index: 1159764 entries, 0 to 1473395\n",
      "Data columns (total 19 columns):\n",
      " #   Column            Non-Null Count    Dtype  \n",
      "---  ------            --------------    -----  \n",
      " 0   artist_name       1159749 non-null  object \n",
      " 1   track_name        1159763 non-null  object \n",
      " 2   track_id          1159764 non-null  object \n",
      " 3   popularity        1159764 non-null  int64  \n",
      " 4   year              1159764 non-null  int64  \n",
      " 5   genre             1159764 non-null  object \n",
      " 6   danceability      1159764 non-null  float64\n",
      " 7   energy            1159764 non-null  float64\n",
      " 8   key               1159764 non-null  int64  \n",
      " 9   loudness          1159764 non-null  float64\n",
      " 10  mode              1159764 non-null  int64  \n",
      " 11  speechiness       1159764 non-null  float64\n",
      " 12  acousticness      1159764 non-null  float64\n",
      " 13  instrumentalness  1159764 non-null  float64\n",
      " 14  liveness          1159764 non-null  float64\n",
      " 15  valence           1159764 non-null  float64\n",
      " 16  tempo             1159764 non-null  float64\n",
      " 17  duration_ms       1159764 non-null  int64  \n",
      " 18  time_signature    1159764 non-null  int64  \n",
      "dtypes: float64(9), int64(6), object(4)\n",
      "memory usage: 177.0+ MB\n"
     ]
    }
   ],
   "source": [
    "df.info()"
   ]
  },
  {
   "cell_type": "code",
   "execution_count": 10,
   "metadata": {},
   "outputs": [
    {
     "name": "stderr",
     "output_type": "stream",
     "text": [
      "/Users/wesleyallen/anaconda3/envs/CSCI_5502/lib/python3.11/site-packages/seaborn/_oldcore.py:1119: FutureWarning: use_inf_as_na option is deprecated and will be removed in a future version. Convert inf values to NaN before operating instead.\n",
      "  with pd.option_context('mode.use_inf_as_na', True):\n"
     ]
    },
    {
     "data": {
      "text/plain": [
       "Text(0, 0.5, 'Number of Songs')"
      ]
     },
     "execution_count": 10,
     "metadata": {},
     "output_type": "execute_result"
    },
    {
     "data": {
      "image/png": "[encoded data removed]",
      "text/plain": [
       "<Figure size 1000x600 with 1 Axes>"
      ]
     },
     "metadata": {},
     "output_type": "display_data"
    }
   ],
   "source": [
    "# create histogram of song releases by year\n",
    "\n",
    "plt.figure(figsize=(10,6))\n",
    "sns.histplot(df['year'], bins=24, color='blue')\n",
    "plt.title('Song Releases by Year')\n",
    "plt.xlabel('Year')\n",
    "plt.ylabel('Number of Songs')\n",
    "\n"
   ]
  },
  {
   "cell_type": "code",
   "execution_count": 13,
   "metadata": {},
   "outputs": [
    {
     "data": {
      "application/vnd.plotly.v1+json": {
       "config": {
        "plotlyServerURL": "https://plot.ly"
       },
       "data": [
        {
         "colorscale": [
          [
           0,
           "#440154"
          ],
          [
           0.1111111111111111,
           "#482878"
          ],
          [
           0.2222222222222222,
           "#3e4989"
          ],
          [
           0.3333333333333333,
           "#31688e"
          ],
          [
           0.4444444444444444,
           "#26828e"
          ],
          [
           0.5555555555555556,
           "#1f9e89"
          ],
          [
           0.6666666666666666,
           "#35b779"
          ],
          [
           0.7777777777777778,
           "#6ece58"
          ],
          [
           0.8888888888888888,
           "#b5de2b"
          ],
          [
           1,
           "#fde725"
          ]
         ],
         "type": "heatmap",
         "x": [
          "popularity",
          "year",
          "danceability",
          "energy",
          "key",
          "loudness",
          "mode",
          "speechiness",
          "acousticness",
          "instrumentalness",
          "liveness",
          "valence",
          "tempo",
          "duration_ms",
          "time_signature"
         ],
         "y": [
          "popularity",
          "year",
          "danceability",
          "energy",
          "key",
          "loudness",
          "mode",
          "speechiness",
          "acousticness",
          "instrumentalness",
          "liveness",
          "valence",
          "tempo",
          "duration_ms",
          "time_signature"
         ],
         "z": [
          [
           1,
           0.34582141648911935,
           0.09853264071313753,
           0.009401397618384575,
           0.0003904157076674157,
           0.10409653192966306,
           -0.02383734531929071,
           -0.024700490932065795,
           -0.0591805286182774,
           -0.15289291166851557,
           -0.05696845810655342,
           -0.018070226313806247,
           0.0025661856529532743,
           -0.11848400907807166,
           0.030830213239220656
          ],
          [
           0.34582141648911935,
           1,
           0.04008737044265958,
           0.01959504637313691,
           -0.003479504441440149,
           0.041414617913783855,
           -0.031349676788234,
           0.028864408052243443,
           -0.025509602458944382,
           0.013619836463524252,
           -0.015538206050489441,
           -0.10090654120891064,
           0.018774460988455005,
           -0.09037138976606261,
           0.008465168775284948
          ],
          [
           0.09853264071313753,
           0.04008737044265958,
           1,
           0.13926746766801995,
           0.03136335017729179,
           0.2571741983971568,
           -0.051711277590798736,
           0.08653619781287775,
           -0.17645561558857348,
           -0.16912197244600102,
           -0.11967145355012282,
           0.5198999113323228,
           -0.016157029171594263,
           -0.025873739970258387,
           0.18391801049093487
          ],
          [
           0.009401397618384575,
           0.01959504637313691,
           0.13926746766801995,
           1,
           0.03846174905649118,
           0.7810056565610544,
           -0.0520519729065705,
           0.11417636492767977,
           -0.7526617580488713,
           -0.18433136354484217,
           0.1891172210569479,
           0.24796790171521402,
           0.2651668176563387,
           0.012422163208584865,
           0.17119044514987009
          ],
          [
           0.0003904157076674157,
           -0.003479504441440149,
           0.03136335017729179,
           0.03846174905649118,
           1,
           0.026865702486714306,
           -0.16763379368114492,
           0.012875217548148406,
           -0.03451006385778669,
           0.0002255072915719288,
           -0.005425536367063537,
           0.025927548853369665,
           0.00952750349264809,
           0.008626237195726551,
           0.010431096858889051
          ],
          [
           0.10409653192966306,
           0.041414617913783855,
           0.2571741983971568,
           0.7810056565610544,
           0.026865702486714306,
           1,
           -0.019085506536455986,
           0.023125846921771023,
           -0.6216982659170084,
           -0.40357479862829865,
           0.09077939940412316,
           0.29491196595930624,
           0.23402718320874083,
           -0.04847393408742748,
           0.17152680565628986
          ],
          [
           -0.02383734531929071,
           -0.031349676788234,
           -0.051711277590798736,
           -0.0520519729065705,
           -0.16763379368114492,
           -0.019085506536455986,
           1,
           -0.020095747243828507,
           0.06764466519961386,
           -0.05878885135337315,
           0.024800745893491575,
           0.018890999893260353,
           -0.005237090369016486,
           -0.038654360010078194,
           -0.0167301844450438
          ],
          [
           -0.024700490932065795,
           0.028864408052243443,
           0.08653619781287775,
           0.11417636492767977,
           0.012875217548148406,
           0.023125846921771023,
           -0.020095747243828507,
           1,
           0.03163843457728653,
           -0.14241714882663295,
           0.28248242919235095,
           0.039348694098874315,
           -0.03194522399334191,
           -0.06239580437803526,
           -0.028078264330074865
          ],
          [
           -0.0591805286182774,
           -0.025509602458944382,
           -0.17645561558857348,
           -0.7526617580488713,
           -0.03451006385778669,
           -0.6216982659170084,
           0.06764466519961386,
           0.03163843457728653,
           1,
           0.09428135009775387,
           -0.030536190815841344,
           -0.10328512657179607,
           -0.24086076181926688,
           -0.06420455473777092,
           -0.16955149485261456
          ],
          [
           -0.15289291166851557,
           0.013619836463524252,
           -0.16912197244600102,
           -0.18433136354484217,
           0.0002255072915719288,
           -0.40357479862829865,
           -0.05878885135337315,
           -0.14241714882663295,
           0.09428135009775387,
           1,
           -0.1299761449255674,
           -0.31519999444773156,
           -0.03174476949144146,
           0.16286991051577607,
           -0.056557453476851295
          ],
          [
           -0.05696845810655342,
           -0.015538206050489441,
           -0.11967145355012282,
           0.1891172210569479,
           -0.005425536367063537,
           0.09077939940412316,
           0.024800745893491575,
           0.28248242919235095,
           -0.030536190815841344,
           -0.1299761449255674,
           1,
           0.007963655602316573,
           -0.002808956845546607,
           -0.007671928569771046,
           -0.018062540329636376
          ],
          [
           -0.018070226313806247,
           -0.10090654120891064,
           0.5198999113323228,
           0.24796790171521402,
           0.025927548853369665,
           0.29491196595930624,
           0.018890999893260353,
           0.039348694098874315,
           -0.10328512657179607,
           -0.31519999444773156,
           0.007963655602316573,
           1,
           0.08303398848583998,
           -0.13147879909780658,
           0.12175459690892007
          ],
          [
           0.0025661856529532743,
           0.018774460988455005,
           -0.016157029171594263,
           0.2651668176563387,
           0.00952750349264809,
           0.23402718320874083,
           -0.005237090369016486,
           -0.03194522399334191,
           -0.24086076181926688,
           -0.03174476949144146,
           -0.002808956845546607,
           0.08303398848583998,
           1,
           0.010518426053863656,
           0.06191890790512174
          ],
          [
           -0.11848400907807166,
           -0.09037138976606261,
           -0.025873739970258387,
           0.012422163208584865,
           0.008626237195726551,
           -0.04847393408742748,
           -0.038654360010078194,
           -0.06239580437803526,
           -0.06420455473777092,
           0.16286991051577607,
           -0.007671928569771046,
           -0.13147879909780658,
           0.010518426053863656,
           1,
           0.01707222138892733
          ],
          [
           0.030830213239220656,
           0.008465168775284948,
           0.18391801049093487,
           0.17119044514987009,
           0.010431096858889051,
           0.17152680565628986,
           -0.0167301844450438,
           -0.028078264330074865,
           -0.16955149485261456,
           -0.056557453476851295,
           -0.018062540329636376,
           0.12175459690892007,
           0.06191890790512174,
           0.01707222138892733,
           1
          ]
         ]
        }
       ],
       "layout": {
        "height": 800,
        "template": {
         "data": {
          "bar": [
           {
            "error_x": {
             "color": "#2a3f5f"
            },
            "error_y": {
             "color": "#2a3f5f"
            },
            "marker": {
             "line": {
              "color": "#E5ECF6",
              "width": 0.5
             },
             "pattern": {
              "fillmode": "overlay",
              "size": 10,
              "solidity": 0.2
             }
            },
            "type": "bar"
           }
          ],
          "barpolar": [
           {
            "marker": {
             "line": {
              "color": "#E5ECF6",
              "width": 0.5
             },
             "pattern": {
              "fillmode": "overlay",
              "size": 10,
              "solidity": 0.2
             }
            },
            "type": "barpolar"
           }
          ],
          "carpet": [
           {
            "aaxis": {
             "endlinecolor": "#2a3f5f",
             "gridcolor": "white",
             "linecolor": "white",
             "minorgridcolor": "white",
             "startlinecolor": "#2a3f5f"
            },
            "baxis": {
             "endlinecolor": "#2a3f5f",
             "gridcolor": "white",
             "linecolor": "white",
             "minorgridcolor": "white",
             "startlinecolor": "#2a3f5f"
            },
            "type": "carpet"
           }
          ],
          "choropleth": [
           {
            "colorbar": {
             "outlinewidth": 0,
             "ticks": ""
            },
            "type": "choropleth"
           }
          ],
          "contour": [
           {
            "colorbar": {
             "outlinewidth": 0,
             "ticks": ""
            },
            "colorscale": [
             [
              0,
              "#0d0887"
             ],
             [
              0.1111111111111111,
              "#46039f"
             ],
             [
              0.2222222222222222,
              "#7201a8"
             ],
             [
              0.3333333333333333,
              "#9c179e"
             ],
             [
              0.4444444444444444,
              "#bd3786"
             ],
             [
              0.5555555555555556,
              "#d8576b"
             ],
             [
              0.6666666666666666,
              "#ed7953"
             ],
             [
              0.7777777777777778,
              "#fb9f3a"
             ],
             [
              0.8888888888888888,
              "#fdca26"
             ],
             [
              1,
              "#f0f921"
             ]
            ],
            "type": "contour"
           }
          ],
          "contourcarpet": [
           {
            "colorbar": {
             "outlinewidth": 0,
             "ticks": ""
            },
            "type": "contourcarpet"
           }
          ],
          "heatmap": [
           {
            "colorbar": {
             "outlinewidth": 0,
             "ticks": ""
            },
            "colorscale": [
             [
              0,
              "#0d0887"
             ],
             [
              0.1111111111111111,
              "#46039f"
             ],
             [
              0.2222222222222222,
              "#7201a8"
             ],
             [
              0.3333333333333333,
              "#9c179e"
             ],
             [
              0.4444444444444444,
              "#bd3786"
             ],
             [
              0.5555555555555556,
              "#d8576b"
             ],
             [
              0.6666666666666666,
              "#ed7953"
             ],
             [
              0.7777777777777778,
              "#fb9f3a"
             ],
             [
              0.8888888888888888,
              "#fdca26"
             ],
             [
              1,
              "#f0f921"
             ]
            ],
            "type": "heatmap"
           }
          ],
          "heatmapgl": [
           {
            "colorbar": {
             "outlinewidth": 0,
             "ticks": ""
            },
            "colorscale": [
             [
              0,
              "#0d0887"
             ],
             [
              0.1111111111111111,
              "#46039f"
             ],
             [
              0.2222222222222222,
              "#7201a8"
             ],
             [
              0.3333333333333333,
              "#9c179e"
             ],
             [
              0.4444444444444444,
              "#bd3786"
             ],
             [
              0.5555555555555556,
              "#d8576b"
             ],
             [
              0.6666666666666666,
              "#ed7953"
             ],
             [
              0.7777777777777778,
              "#fb9f3a"
             ],
             [
              0.8888888888888888,
              "#fdca26"
             ],
             [
              1,
              "#f0f921"
             ]
            ],
            "type": "heatmapgl"
           }
          ],
          "histogram": [
           {
            "marker": {
             "pattern": {
              "fillmode": "overlay",
              "size": 10,
              "solidity": 0.2
             }
            },
            "type": "histogram"
           }
          ],
          "histogram2d": [
           {
            "colorbar": {
             "outlinewidth": 0,
             "ticks": ""
            },
            "colorscale": [
             [
              0,
              "#0d0887"
             ],
             [
              0.1111111111111111,
              "#46039f"
             ],
             [
              0.2222222222222222,
              "#7201a8"
             ],
             [
              0.3333333333333333,
              "#9c179e"
             ],
             [
              0.4444444444444444,
              "#bd3786"
             ],
             [
              0.5555555555555556,
              "#d8576b"
             ],
             [
              0.6666666666666666,
              "#ed7953"
             ],
             [
              0.7777777777777778,
              "#fb9f3a"
             ],
             [
              0.8888888888888888,
              "#fdca26"
             ],
             [
              1,
              "#f0f921"
             ]
            ],
            "type": "histogram2d"
           }
          ],
          "histogram2dcontour": [
           {
            "colorbar": {
             "outlinewidth": 0,
             "ticks": ""
            },
            "colorscale": [
             [
              0,
              "#0d0887"
             ],
             [
              0.1111111111111111,
              "#46039f"
             ],
             [
              0.2222222222222222,
              "#7201a8"
             ],
             [
              0.3333333333333333,
              "#9c179e"
             ],
             [
              0.4444444444444444,
              "#bd3786"
             ],
             [
              0.5555555555555556,
              "#d8576b"
             ],
             [
              0.6666666666666666,
              "#ed7953"
             ],
             [
              0.7777777777777778,
              "#fb9f3a"
             ],
             [
              0.8888888888888888,
              "#fdca26"
             ],
             [
              1,
              "#f0f921"
             ]
            ],
            "type": "histogram2dcontour"
           }
          ],
          "mesh3d": [
           {
            "colorbar": {
             "outlinewidth": 0,
             "ticks": ""
            },
            "type": "mesh3d"
           }
          ],
          "parcoords": [
           {
            "line": {
             "colorbar": {
              "outlinewidth": 0,
              "ticks": ""
             }
            },
            "type": "parcoords"
           }
          ],
          "pie": [
           {
            "automargin": true,
            "type": "pie"
           }
          ],
          "scatter": [
           {
            "fillpattern": {
             "fillmode": "overlay",
             "size": 10,
             "solidity": 0.2
            },
            "type": "scatter"
           }
          ],
          "scatter3d": [
           {
            "line": {
             "colorbar": {
              "outlinewidth": 0,
              "ticks": ""
             }
            },
            "marker": {
             "colorbar": {
              "outlinewidth": 0,
              "ticks": ""
             }
            },
            "type": "scatter3d"
           }
          ],
          "scattercarpet": [
           {
            "marker": {
             "colorbar": {
              "outlinewidth": 0,
              "ticks": ""
             }
            },
            "type": "scattercarpet"
           }
          ],
          "scattergeo": [
           {
            "marker": {
             "colorbar": {
              "outlinewidth": 0,
              "ticks": ""
             }
            },
            "type": "scattergeo"
           }
          ],
          "scattergl": [
           {
            "marker": {
             "colorbar": {
              "outlinewidth": 0,
              "ticks": ""
             }
            },
            "type": "scattergl"
           }
          ],
          "scattermapbox": [
           {
            "marker": {
             "colorbar": {
              "outlinewidth": 0,
              "ticks": ""
             }
            },
            "type": "scattermapbox"
           }
          ],
          "scatterpolar": [
           {
            "marker": {
             "colorbar": {
              "outlinewidth": 0,
              "ticks": ""
             }
            },
            "type": "scatterpolar"
           }
          ],
          "scatterpolargl": [
           {
            "marker": {
             "colorbar": {
              "outlinewidth": 0,
              "ticks": ""
             }
            },
            "type": "scatterpolargl"
           }
          ],
          "scatterternary": [
           {
            "marker": {
             "colorbar": {
              "outlinewidth": 0,
              "ticks": ""
             }
            },
            "type": "scatterternary"
           }
          ],
          "surface": [
           {
            "colorbar": {
             "outlinewidth": 0,
             "ticks": ""
            },
            "colorscale": [
             [
              0,
              "#0d0887"
             ],
             [
              0.1111111111111111,
              "#46039f"
             ],
             [
              0.2222222222222222,
              "#7201a8"
             ],
             [
              0.3333333333333333,
              "#9c179e"
             ],
             [
              0.4444444444444444,
              "#bd3786"
             ],
             [
              0.5555555555555556,
              "#d8576b"
             ],
             [
              0.6666666666666666,
              "#ed7953"
             ],
             [
              0.7777777777777778,
              "#fb9f3a"
             ],
             [
              0.8888888888888888,
              "#fdca26"
             ],
             [
              1,
              "#f0f921"
             ]
            ],
            "type": "surface"
           }
          ],
          "table": [
           {
            "cells": {
             "fill": {
              "color": "#EBF0F8"
             },
             "line": {
              "color": "white"
             }
            },
            "header": {
             "fill": {
              "color": "#C8D4E3"
             },
             "line": {
              "color": "white"
             }
            },
            "type": "table"
           }
          ]
         },
         "layout": {
          "annotationdefaults": {
           "arrowcolor": "#2a3f5f",
           "arrowhead": 0,
           "arrowwidth": 1
          },
          "autotypenumbers": "strict",
          "coloraxis": {
           "colorbar": {
            "outlinewidth": 0,
            "ticks": ""
           }
          },
          "colorscale": {
           "diverging": [
            [
             0,
             "#8e0152"
            ],
            [
             0.1,
             "#c51b7d"
            ],
            [
             0.2,
             "#de77ae"
            ],
            [
             0.3,
             "#f1b6da"
            ],
            [
             0.4,
             "#fde0ef"
            ],
            [
             0.5,
             "#f7f7f7"
            ],
            [
             0.6,
             "#e6f5d0"
            ],
            [
             0.7,
             "#b8e186"
            ],
            [
             0.8,
             "#7fbc41"
            ],
            [
             0.9,
             "#4d9221"
            ],
            [
             1,
             "#276419"
            ]
           ],
           "sequential": [
            [
             0,
             "#0d0887"
            ],
            [
             0.1111111111111111,
             "#46039f"
            ],
            [
             0.2222222222222222,
             "#7201a8"
            ],
            [
             0.3333333333333333,
             "#9c179e"
            ],
            [
             0.4444444444444444,
             "#bd3786"
            ],
            [
             0.5555555555555556,
             "#d8576b"
            ],
            [
             0.6666666666666666,
             "#ed7953"
            ],
            [
             0.7777777777777778,
             "#fb9f3a"
            ],
            [
             0.8888888888888888,
             "#fdca26"
            ],
            [
             1,
             "#f0f921"
            ]
           ],
           "sequentialminus": [
            [
             0,
             "#0d0887"
            ],
            [
             0.1111111111111111,
             "#46039f"
            ],
            [
             0.2222222222222222,
             "#7201a8"
            ],
            [
             0.3333333333333333,
             "#9c179e"
            ],
            [
             0.4444444444444444,
             "#bd3786"
            ],
            [
             0.5555555555555556,
             "#d8576b"
            ],
            [
             0.6666666666666666,
             "#ed7953"
            ],
            [
             0.7777777777777778,
             "#fb9f3a"
            ],
            [
             0.8888888888888888,
             "#fdca26"
            ],
            [
             1,
             "#f0f921"
            ]
           ]
          },
          "colorway": [
           "#636efa",
           "#EF553B",
           "#00cc96",
           "#ab63fa",
           "#FFA15A",
           "#19d3f3",
           "#FF6692",
           "#B6E880",
           "#FF97FF",
           "#FECB52"
          ],
          "font": {
           "color": "#2a3f5f"
          },
          "geo": {
           "bgcolor": "white",
           "lakecolor": "white",
           "landcolor": "#E5ECF6",
           "showlakes": true,
           "showland": true,
           "subunitcolor": "white"
          },
          "hoverlabel": {
           "align": "left"
          },
          "hovermode": "closest",
          "mapbox": {
           "style": "light"
          },
          "paper_bgcolor": "white",
          "plot_bgcolor": "#E5ECF6",
          "polar": {
           "angularaxis": {
            "gridcolor": "white",
            "linecolor": "white",
            "ticks": ""
           },
           "bgcolor": "#E5ECF6",
           "radialaxis": {
            "gridcolor": "white",
            "linecolor": "white",
            "ticks": ""
           }
          },
          "scene": {
           "xaxis": {
            "backgroundcolor": "#E5ECF6",
            "gridcolor": "white",
            "gridwidth": 2,
            "linecolor": "white",
            "showbackground": true,
            "ticks": "",
            "zerolinecolor": "white"
           },
           "yaxis": {
            "backgroundcolor": "#E5ECF6",
            "gridcolor": "white",
            "gridwidth": 2,
            "linecolor": "white",
            "showbackground": true,
            "ticks": "",
            "zerolinecolor": "white"
           },
           "zaxis": {
            "backgroundcolor": "#E5ECF6",
            "gridcolor": "white",
            "gridwidth": 2,
            "linecolor": "white",
            "showbackground": true,
            "ticks": "",
            "zerolinecolor": "white"
           }
          },
          "shapedefaults": {
           "line": {
            "color": "#2a3f5f"
           }
          },
          "ternary": {
           "aaxis": {
            "gridcolor": "white",
            "linecolor": "white",
            "ticks": ""
           },
           "baxis": {
            "gridcolor": "white",
            "linecolor": "white",
            "ticks": ""
           },
           "bgcolor": "#E5ECF6",
           "caxis": {
            "gridcolor": "white",
            "linecolor": "white",
            "ticks": ""
           }
          },
          "title": {
           "x": 0.05
          },
          "xaxis": {
           "automargin": true,
           "gridcolor": "white",
           "linecolor": "white",
           "ticks": "",
           "title": {
            "standoff": 15
           },
           "zerolinecolor": "white",
           "zerolinewidth": 2
          },
          "yaxis": {
           "automargin": true,
           "gridcolor": "white",
           "linecolor": "white",
           "ticks": "",
           "title": {
            "standoff": 15
           },
           "zerolinecolor": "white",
           "zerolinewidth": 2
          }
         }
        },
        "title": {
         "text": "Correlation Heatmap"
        },
        "width": 800
       }
      }
     },
     "metadata": {},
     "output_type": "display_data"
    }
   ],
   "source": [
    "numerical_df = df.select_dtypes(include=[np.number])\n",
    "corr = numerical_df.corr()\n",
    "\n",
    "heatmap = go.Figure(data=go.Heatmap(\n",
    "                     z=corr.values,\n",
    "                     x=corr.index,\n",
    "                     y=corr.columns,\n",
    "                     colorscale='Viridis'))\n",
    "\n",
    "heatmap.update_layout(title='Correlation Heatmap', width=800, height=800)\n",
    "\n",
    "heatmap.show()"
   ]
  },
  {
   "cell_type": "code",
   "execution_count": 15,
   "metadata": {},
   "outputs": [
    {
     "data": {
      "text/html": [
       "<div>\n",
       "<style scoped>\n",
       "    .dataframe tbody tr th:only-of-type {\n",
       "        vertical-align: middle;\n",
       "    }\n",
       "\n",
       "    .dataframe tbody tr th {\n",
       "        vertical-align: top;\n",
       "    }\n",
       "\n",
       "    .dataframe thead th {\n",
       "        text-align: right;\n",
       "    }\n",
       "</style>\n",
       "<table border=\"1\" class=\"dataframe\">\n",
       "  <thead>\n",
       "    <tr style=\"text-align: right;\">\n",
       "      <th></th>\n",
       "      <th>artist_name</th>\n",
       "      <th>track_name</th>\n",
       "      <th>track_id</th>\n",
       "      <th>popularity</th>\n",
       "      <th>year</th>\n",
       "      <th>genre</th>\n",
       "      <th>danceability</th>\n",
       "      <th>energy</th>\n",
       "      <th>key</th>\n",
       "      <th>loudness</th>\n",
       "      <th>mode</th>\n",
       "      <th>speechiness</th>\n",
       "      <th>acousticness</th>\n",
       "      <th>instrumentalness</th>\n",
       "      <th>liveness</th>\n",
       "      <th>valence</th>\n",
       "      <th>tempo</th>\n",
       "      <th>duration_ms</th>\n",
       "      <th>time_signature</th>\n",
       "    </tr>\n",
       "  </thead>\n",
       "  <tbody>\n",
       "    <tr>\n",
       "      <th>40355</th>\n",
       "      <td>Taylor Swift</td>\n",
       "      <td>I Knew You Were Trouble.</td>\n",
       "      <td>6FB3v4YcR57y4tXFcdxI1E</td>\n",
       "      <td>76</td>\n",
       "      <td>2012</td>\n",
       "      <td>pop</td>\n",
       "      <td>0.622</td>\n",
       "      <td>0.469</td>\n",
       "      <td>3</td>\n",
       "      <td>-6.798</td>\n",
       "      <td>0</td>\n",
       "      <td>0.0363</td>\n",
       "      <td>0.00454</td>\n",
       "      <td>0.000002</td>\n",
       "      <td>0.0335</td>\n",
       "      <td>0.679</td>\n",
       "      <td>77.019</td>\n",
       "      <td>219720</td>\n",
       "      <td>4</td>\n",
       "    </tr>\n",
       "    <tr>\n",
       "      <th>40360</th>\n",
       "      <td>Taylor Swift</td>\n",
       "      <td>We Are Never Ever Getting Back Together</td>\n",
       "      <td>0VwNdo84DaVYLIkbVO86ND</td>\n",
       "      <td>74</td>\n",
       "      <td>2012</td>\n",
       "      <td>pop</td>\n",
       "      <td>0.628</td>\n",
       "      <td>0.676</td>\n",
       "      <td>7</td>\n",
       "      <td>-5.911</td>\n",
       "      <td>1</td>\n",
       "      <td>0.0916</td>\n",
       "      <td>0.00957</td>\n",
       "      <td>0.000027</td>\n",
       "      <td>0.1210</td>\n",
       "      <td>0.750</td>\n",
       "      <td>85.984</td>\n",
       "      <td>193147</td>\n",
       "      <td>4</td>\n",
       "    </tr>\n",
       "    <tr>\n",
       "      <th>40369</th>\n",
       "      <td>Taylor Swift</td>\n",
       "      <td>22</td>\n",
       "      <td>6ce41JVa6KFaryfmC2bu2W</td>\n",
       "      <td>68</td>\n",
       "      <td>2012</td>\n",
       "      <td>pop</td>\n",
       "      <td>0.661</td>\n",
       "      <td>0.729</td>\n",
       "      <td>7</td>\n",
       "      <td>-6.561</td>\n",
       "      <td>1</td>\n",
       "      <td>0.0376</td>\n",
       "      <td>0.00215</td>\n",
       "      <td>0.001300</td>\n",
       "      <td>0.0477</td>\n",
       "      <td>0.668</td>\n",
       "      <td>103.987</td>\n",
       "      <td>232120</td>\n",
       "      <td>4</td>\n",
       "    </tr>\n",
       "    <tr>\n",
       "      <th>40374</th>\n",
       "      <td>Taylor Swift</td>\n",
       "      <td>Red</td>\n",
       "      <td>0cITLOYn1Sv4q27zZPqlNK</td>\n",
       "      <td>60</td>\n",
       "      <td>2012</td>\n",
       "      <td>pop</td>\n",
       "      <td>0.602</td>\n",
       "      <td>0.896</td>\n",
       "      <td>1</td>\n",
       "      <td>-4.267</td>\n",
       "      <td>0</td>\n",
       "      <td>0.0437</td>\n",
       "      <td>0.07730</td>\n",
       "      <td>0.000089</td>\n",
       "      <td>0.0910</td>\n",
       "      <td>0.641</td>\n",
       "      <td>124.978</td>\n",
       "      <td>220827</td>\n",
       "      <td>4</td>\n",
       "    </tr>\n",
       "    <tr>\n",
       "      <th>40377</th>\n",
       "      <td>Taylor Swift</td>\n",
       "      <td>Safe &amp; Sound - from The Hunger Games Soundtrack</td>\n",
       "      <td>0z9UVN8VBHJ9HdfYsOuuNf</td>\n",
       "      <td>64</td>\n",
       "      <td>2012</td>\n",
       "      <td>pop</td>\n",
       "      <td>0.471</td>\n",
       "      <td>0.300</td>\n",
       "      <td>7</td>\n",
       "      <td>-10.807</td>\n",
       "      <td>1</td>\n",
       "      <td>0.0280</td>\n",
       "      <td>0.88300</td>\n",
       "      <td>0.000010</td>\n",
       "      <td>0.0698</td>\n",
       "      <td>0.289</td>\n",
       "      <td>144.319</td>\n",
       "      <td>240067</td>\n",
       "      <td>4</td>\n",
       "    </tr>\n",
       "    <tr>\n",
       "      <th>...</th>\n",
       "      <td>...</td>\n",
       "      <td>...</td>\n",
       "      <td>...</td>\n",
       "      <td>...</td>\n",
       "      <td>...</td>\n",
       "      <td>...</td>\n",
       "      <td>...</td>\n",
       "      <td>...</td>\n",
       "      <td>...</td>\n",
       "      <td>...</td>\n",
       "      <td>...</td>\n",
       "      <td>...</td>\n",
       "      <td>...</td>\n",
       "      <td>...</td>\n",
       "      <td>...</td>\n",
       "      <td>...</td>\n",
       "      <td>...</td>\n",
       "      <td>...</td>\n",
       "      <td>...</td>\n",
       "    </tr>\n",
       "    <tr>\n",
       "      <th>1381203</th>\n",
       "      <td>Taylor Swift</td>\n",
       "      <td>Speak Now - Live/2011</td>\n",
       "      <td>3QFB14MOUf3imlyISNmrbT</td>\n",
       "      <td>44</td>\n",
       "      <td>2010</td>\n",
       "      <td>pop</td>\n",
       "      <td>0.615</td>\n",
       "      <td>0.694</td>\n",
       "      <td>7</td>\n",
       "      <td>-5.251</td>\n",
       "      <td>1</td>\n",
       "      <td>0.0318</td>\n",
       "      <td>0.06360</td>\n",
       "      <td>0.000001</td>\n",
       "      <td>0.8300</td>\n",
       "      <td>0.373</td>\n",
       "      <td>118.876</td>\n",
       "      <td>248147</td>\n",
       "      <td>4</td>\n",
       "    </tr>\n",
       "    <tr>\n",
       "      <th>1381232</th>\n",
       "      <td>Taylor Swift</td>\n",
       "      <td>Mine - Live/2011</td>\n",
       "      <td>7yndkPYP6YQQLBpPsizDfh</td>\n",
       "      <td>43</td>\n",
       "      <td>2010</td>\n",
       "      <td>pop</td>\n",
       "      <td>0.496</td>\n",
       "      <td>0.852</td>\n",
       "      <td>7</td>\n",
       "      <td>-4.775</td>\n",
       "      <td>1</td>\n",
       "      <td>0.0373</td>\n",
       "      <td>0.00233</td>\n",
       "      <td>0.000000</td>\n",
       "      <td>0.5540</td>\n",
       "      <td>0.442</td>\n",
       "      <td>120.969</td>\n",
       "      <td>259280</td>\n",
       "      <td>4</td>\n",
       "    </tr>\n",
       "    <tr>\n",
       "      <th>1381241</th>\n",
       "      <td>Taylor Swift</td>\n",
       "      <td>Last Kiss - Live/2011</td>\n",
       "      <td>6hH37tyeRdyan1mAppmVor</td>\n",
       "      <td>43</td>\n",
       "      <td>2010</td>\n",
       "      <td>pop</td>\n",
       "      <td>0.427</td>\n",
       "      <td>0.395</td>\n",
       "      <td>0</td>\n",
       "      <td>-12.551</td>\n",
       "      <td>1</td>\n",
       "      <td>0.0291</td>\n",
       "      <td>0.20500</td>\n",
       "      <td>0.000009</td>\n",
       "      <td>0.7010</td>\n",
       "      <td>0.188</td>\n",
       "      <td>79.517</td>\n",
       "      <td>369067</td>\n",
       "      <td>3</td>\n",
       "    </tr>\n",
       "    <tr>\n",
       "      <th>1381252</th>\n",
       "      <td>Taylor Swift</td>\n",
       "      <td>I Want You Back - Live/2011</td>\n",
       "      <td>4KB3zBArZ1rHRExilzycaV</td>\n",
       "      <td>43</td>\n",
       "      <td>2010</td>\n",
       "      <td>pop</td>\n",
       "      <td>0.536</td>\n",
       "      <td>0.512</td>\n",
       "      <td>6</td>\n",
       "      <td>-6.794</td>\n",
       "      <td>1</td>\n",
       "      <td>0.0341</td>\n",
       "      <td>0.79400</td>\n",
       "      <td>0.000122</td>\n",
       "      <td>0.4970</td>\n",
       "      <td>0.249</td>\n",
       "      <td>97.397</td>\n",
       "      <td>83253</td>\n",
       "      <td>4</td>\n",
       "    </tr>\n",
       "    <tr>\n",
       "      <th>1451616</th>\n",
       "      <td>Taylor Swift</td>\n",
       "      <td>Today Was A Fairytale</td>\n",
       "      <td>4pFvEWbjBpPUdYRQly0THs</td>\n",
       "      <td>50</td>\n",
       "      <td>2011</td>\n",
       "      <td>pop</td>\n",
       "      <td>0.491</td>\n",
       "      <td>0.703</td>\n",
       "      <td>7</td>\n",
       "      <td>-4.500</td>\n",
       "      <td>1</td>\n",
       "      <td>0.0319</td>\n",
       "      <td>0.03070</td>\n",
       "      <td>0.000006</td>\n",
       "      <td>0.1670</td>\n",
       "      <td>0.344</td>\n",
       "      <td>157.988</td>\n",
       "      <td>242480</td>\n",
       "      <td>4</td>\n",
       "    </tr>\n",
       "  </tbody>\n",
       "</table>\n",
       "<p>262 rows × 19 columns</p>\n",
       "</div>"
      ],
      "text/plain": [
       "          artist_name                                       track_name  \\\n",
       "40355    Taylor Swift                         I Knew You Were Trouble.   \n",
       "40360    Taylor Swift          We Are Never Ever Getting Back Together   \n",
       "40369    Taylor Swift                                               22   \n",
       "40374    Taylor Swift                                              Red   \n",
       "40377    Taylor Swift  Safe & Sound - from The Hunger Games Soundtrack   \n",
       "...               ...                                              ...   \n",
       "1381203  Taylor Swift                            Speak Now - Live/2011   \n",
       "1381232  Taylor Swift                                 Mine - Live/2011   \n",
       "1381241  Taylor Swift                            Last Kiss - Live/2011   \n",
       "1381252  Taylor Swift                      I Want You Back - Live/2011   \n",
       "1451616  Taylor Swift                            Today Was A Fairytale   \n",
       "\n",
       "                       track_id  popularity  year genre  danceability  energy  \\\n",
       "40355    6FB3v4YcR57y4tXFcdxI1E          76  2012   pop         0.622   0.469   \n",
       "40360    0VwNdo84DaVYLIkbVO86ND          74  2012   pop         0.628   0.676   \n",
       "40369    6ce41JVa6KFaryfmC2bu2W          68  2012   pop         0.661   0.729   \n",
       "40374    0cITLOYn1Sv4q27zZPqlNK          60  2012   pop         0.602   0.896   \n",
       "40377    0z9UVN8VBHJ9HdfYsOuuNf          64  2012   pop         0.471   0.300   \n",
       "...                         ...         ...   ...   ...           ...     ...   \n",
       "1381203  3QFB14MOUf3imlyISNmrbT          44  2010   pop         0.615   0.694   \n",
       "1381232  7yndkPYP6YQQLBpPsizDfh          43  2010   pop         0.496   0.852   \n",
       "1381241  6hH37tyeRdyan1mAppmVor          43  2010   pop         0.427   0.395   \n",
       "1381252  4KB3zBArZ1rHRExilzycaV          43  2010   pop         0.536   0.512   \n",
       "1451616  4pFvEWbjBpPUdYRQly0THs          50  2011   pop         0.491   0.703   \n",
       "\n",
       "         key  loudness  mode  speechiness  acousticness  instrumentalness  \\\n",
       "40355      3    -6.798     0       0.0363       0.00454          0.000002   \n",
       "40360      7    -5.911     1       0.0916       0.00957          0.000027   \n",
       "40369      7    -6.561     1       0.0376       0.00215          0.001300   \n",
       "40374      1    -4.267     0       0.0437       0.07730          0.000089   \n",
       "40377      7   -10.807     1       0.0280       0.88300          0.000010   \n",
       "...      ...       ...   ...          ...           ...               ...   \n",
       "1381203    7    -5.251     1       0.0318       0.06360          0.000001   \n",
       "1381232    7    -4.775     1       0.0373       0.00233          0.000000   \n",
       "1381241    0   -12.551     1       0.0291       0.20500          0.000009   \n",
       "1381252    6    -6.794     1       0.0341       0.79400          0.000122   \n",
       "1451616    7    -4.500     1       0.0319       0.03070          0.000006   \n",
       "\n",
       "         liveness  valence    tempo  duration_ms  time_signature  \n",
       "40355      0.0335    0.679   77.019       219720               4  \n",
       "40360      0.1210    0.750   85.984       193147               4  \n",
       "40369      0.0477    0.668  103.987       232120               4  \n",
       "40374      0.0910    0.641  124.978       220827               4  \n",
       "40377      0.0698    0.289  144.319       240067               4  \n",
       "...           ...      ...      ...          ...             ...  \n",
       "1381203    0.8300    0.373  118.876       248147               4  \n",
       "1381232    0.5540    0.442  120.969       259280               4  \n",
       "1381241    0.7010    0.188   79.517       369067               3  \n",
       "1381252    0.4970    0.249   97.397        83253               4  \n",
       "1451616    0.1670    0.344  157.988       242480               4  \n",
       "\n",
       "[262 rows x 19 columns]"
      ]
     },
     "execution_count": 15,
     "metadata": {},
     "output_type": "execute_result"
    }
   ],
   "source": [
    "query = \"Taylor Swift\"\n",
    "df[(df['artist_name'].str.contains(query, na=False))]"
   ]
  },
  {
   "cell_type": "code",
   "execution_count": null,
   "metadata": {},
   "outputs": [],
   "source": []
  }
 ],
 "metadata": {
  "kernelspec": {
   "display_name": "CSCI_5502",
   "language": "python",
   "name": "python3"
  },
  "language_info": {
   "codemirror_mode": {
    "name": "ipython",
    "version": 3
   },
   "file_extension": ".py",
   "mimetype": "text/x-python",
   "name": "python",
   "nbconvert_exporter": "python",
   "pygments_lexer": "ipython3",
   "version": "3.11.7"
  }
 },
 "nbformat": 4,
 "nbformat_minor": 2
}
